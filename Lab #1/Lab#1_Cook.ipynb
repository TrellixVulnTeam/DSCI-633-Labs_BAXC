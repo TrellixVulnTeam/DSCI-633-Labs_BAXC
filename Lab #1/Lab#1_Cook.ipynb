{
 "cells": [
  {
   "cell_type": "markdown",
   "metadata": {},
   "source": [
    "## DSCI-633 Foundations of Data Science & Analytics\n",
    "### Lab #1: Python Review\n",
    "                    \n",
    "This lab is to review and exercise the basics of Python programming that we will be using in this class and Weka, which we introduce next week.\n",
    "\n",
    "1.\tInstall Python on your local machine.\n",
    "\n",
    "     \tInstall Anaconda Individual Edition (https://www.anaconda.com ) for \n",
    "        •     Python 3.8+\n",
    "•\tJupyter Notebook: use for this Lab #1\n",
    "•\tOthers like PyCharm and Spyder\n",
    "\n",
    "2.\tPython Basics:\n",
    "\n",
    "Skip this step if you already know how to code in Python.\n",
    "Learn Python basics on \n",
    "•\tCodecademy (https://www.codecademy.com/learn/learn-python ) (free version), \n",
    "•\tw3schools (https://www.w3schools.com/python/ ), and \n",
    "•\tthe tutorial from the textbook (http://www.cse.msu.edu/~ptan/dmbook/tutorials/tutorial1/tutorial1.html )\n",
    "\n",
    " If you are seeking more practices, https://www.w3resource.com/python-exercises/  has plenty of exercises.\n",
    "\n",
    "3.\tStart Jupyter Notebook to open Lab #1.ipynb.\n",
    "•\tFor each question, write Python code in a cell(s) to generate the expected output.\n",
    "•\tWhen you enter python code in a cell, \n",
    "•\tShift + Enter  run the current cell, select below\n",
    "•\tCtrl + Enter  run selected cells\n",
    "•\tAlt + Enter  run the current cell, insert below\n",
    "•\tCtrl + S  save and checkpoint\n",
    "•\tReferences \n",
    "•\tJupyter Notebook Documentation\n",
    "•\tShort YouTube Tutorial\n",
    "•\tAnother Tutorial\n",
    "\n",
    "        \n",
    " Submit your answer notebook 'Lab #1_YourLastName.ipynb' to the Lab #1 Dropbox by Sunday, 9/5/21 @11:59PM (EST)."
   ]
  },
  {
   "cell_type": "markdown",
   "metadata": {},
   "source": [
    "#1 What is 8 to the power of 4?\n",
    "\n",
    "    Expected Output: 4096"
   ]
  },
  {
   "cell_type": "code",
   "execution_count": 4,
   "metadata": {},
   "outputs": [
    {
     "data": {
      "text/plain": [
       "4096"
      ]
     },
     "execution_count": 4,
     "metadata": {},
     "output_type": "execute_result"
    }
   ],
   "source": [
    "8**4"
   ]
  },
  {
   "cell_type": "markdown",
   "metadata": {},
   "source": [
    "#2 Split this string:\n",
    "\n",
    "    s = \"Hi there Sam!\"\n",
    "    \n",
    "    into a list.\n",
    "    \n",
    "    Expected Output: ['Hi', 'there', 'Sam!']"
   ]
  },
  {
   "cell_type": "code",
   "execution_count": 2,
   "metadata": {},
   "outputs": [
    {
     "data": {
      "text/plain": [
       "['Hi', 'there', 'Sam!']"
      ]
     },
     "execution_count": 2,
     "metadata": {},
     "output_type": "execute_result"
    }
   ],
   "source": [
    "s = \"Hi there Sam!\"\n",
    "s.split(\" \")"
   ]
  },
  {
   "cell_type": "markdown",
   "metadata": {},
   "source": [
    "#3 Given the variables:\n",
    "\n",
    "    planet = \"Earth\"\n",
    "    diameter = 12742\n",
    "\n",
    "** Use .format() to print the following string: **\n",
    "\n",
    "    The diameter of Earth is 12742 kilometers."
   ]
  },
  {
   "cell_type": "code",
   "execution_count": null,
   "metadata": {},
   "outputs": [],
   "source": []
  },
  {
   "cell_type": "code",
   "execution_count": 4,
   "metadata": {},
   "outputs": [
    {
     "name": "stdout",
     "output_type": "stream",
     "text": [
      "The diameter of Earth is 12742 kilometers\n"
     ]
    }
   ],
   "source": [
    "planet = \"Earth\"\n",
    "diameter = 12742\n",
    "string = \"The diameter of {planet:s} is {diameter:d} kilometers\"\n",
    "print(string.format(planet=planet,diameter=diameter))"
   ]
  },
  {
   "cell_type": "markdown",
   "metadata": {},
   "source": [
    "#4 We have a number given below. Write a program to check for the divisibility\n",
    "    of this number by 3 and 5, and print the result obtained.\n",
    "\n",
    "    a = 12\n",
    "    \n",
    "    Expected Output:\n",
    "\n",
    "    a is divisible by either 3 or 5, but not both"
   ]
  },
  {
   "cell_type": "code",
   "execution_count": 5,
   "metadata": {},
   "outputs": [
    {
     "name": "stdout",
     "output_type": "stream",
     "text": [
      "a is divisible by either 3 or 5, but not both\n"
     ]
    }
   ],
   "source": [
    "a=12\n",
    "if(a%3==0 and a&5 ==0):\n",
    "    print(\"a is divisible by both 3 and 5\")\n",
    "if(a%3==0 or a%5 ==0):\n",
    "    print(\"a is divisible by either 3 or 5, but not both\")\n",
    "else:\n",
    "    print(\"a is divisible by neither 3 or 5\")\n"
   ]
  },
  {
   "cell_type": "markdown",
   "metadata": {},
   "source": [
    "#5 Print the table of integer 9 using a while loop:\n",
    "\n",
    "    Expected Output:\n",
    "    9 x 1 = 9\n",
    "    9 x 2 = 18\n",
    "    9 x 3 = 27\n",
    "    9 x 4 = 36\n",
    "    9 x 5 = 45\n",
    "    9 x 6 = 54\n",
    "    9 x 7 = 63\n",
    "    9 x 8 = 72\n",
    "    9 x 9 = 81\n",
    "    9 x 10 = 90"
   ]
  },
  {
   "cell_type": "code",
   "execution_count": 3,
   "metadata": {},
   "outputs": [
    {
     "name": "stdout",
     "output_type": "stream",
     "text": [
      "9 x 1 = 9\n",
      "9 x 2 = 18\n",
      "9 x 3 = 27\n",
      "9 x 4 = 36\n",
      "9 x 5 = 45\n",
      "9 x 6 = 54\n",
      "9 x 7 = 63\n",
      "9 x 8 = 72\n",
      "9 x 9 = 81\n",
      "9 x 10 = 90\n"
     ]
    }
   ],
   "source": [
    "i=1\n",
    "while(i<=10):\n",
    "    x = 9 * i\n",
    "    print(\"9 x {} = {}\".format(i,x))\n",
    "    i+=1"
   ]
  },
  {
   "cell_type": "markdown",
   "metadata": {},
   "source": [
    "#6 We have a set given below. Find out whether 9 and 4 are present in the given set or not.\n",
    "\n",
    "testSet = {8, 7, 3, 9, 2, 11}\n",
    "\n",
    "    Expected Output:\n",
    "    \n",
    "    9:  True\n",
    "    4:  False"
   ]
  },
  {
   "cell_type": "code",
   "execution_count": 9,
   "metadata": {},
   "outputs": [
    {
     "name": "stdout",
     "output_type": "stream",
     "text": [
      "9:  True\n",
      "4:  False\n"
     ]
    }
   ],
   "source": [
    "testSet = {8, 7, 3, 9, 2, 11}\n",
    "\n",
    "print(\"9: \", 9 in testSet)\n",
    "print(\"4: \", 4 in testSet)"
   ]
  },
  {
   "cell_type": "markdown",
   "metadata": {},
   "source": [
    "#7 Given this nested list, use indexing to grab the word \"hello\" \n",
    "\n",
    "    lst = [1,2,[3,4],[5,[100,200,['hello']],23,11],1,7]\n",
    "    \n",
    "    Expected Output:\n",
    "    \n",
    "    'hello'"
   ]
  },
  {
   "cell_type": "code",
   "execution_count": null,
   "metadata": {},
   "outputs": [],
   "source": [
    "\n"
   ]
  },
  {
   "cell_type": "code",
   "execution_count": 17,
   "metadata": {},
   "outputs": [
    {
     "data": {
      "text/plain": [
       "'hello'"
      ]
     },
     "execution_count": 17,
     "metadata": {},
     "output_type": "execute_result"
    }
   ],
   "source": [
    "def getHello(lst):\n",
    "    return lst[3][1][2][0]\n",
    "        \n",
    "lst = [1,2,[3,4],[5,[100,200,['hello']],23,11],1,7]\n",
    "getHello(lst)"
   ]
  },
  {
   "cell_type": "markdown",
   "metadata": {},
   "source": [
    "#8 Given this nest dictionary, grab the word \"hello\".\n",
    "\n",
    "d = {'k1':[1,2,3,{'tricky':['oh','man','inception',{'target':[1,2,3,'hello']}]}]}\n",
    "\n",
    "    Expected Output:\n",
    "    \n",
    "    'hello'"
   ]
  },
  {
   "cell_type": "code",
   "execution_count": 11,
   "metadata": {},
   "outputs": [],
   "source": []
  },
  {
   "cell_type": "code",
   "execution_count": 13,
   "metadata": {},
   "outputs": [
    {
     "data": {
      "text/plain": [
       "'hello'"
      ]
     },
     "execution_count": 13,
     "metadata": {},
     "output_type": "execute_result"
    }
   ],
   "source": [
    "def getHello(d):\n",
    "    return d.get('k1')[3].get('tricky')[3].get('target')[3]\n",
    "    \n",
    "d = {'k1':[1,2,3,{'tricky':['oh','man','inception',{'target':[1,2,3,'hello']}]}]}\n",
    "getHello(d)\n",
    "    "
   ]
  },
  {
   "cell_type": "markdown",
   "metadata": {},
   "source": [
    "#9 What is the main difference between a tuple and a list?\n",
    "   Answer as a comment\n",
    "   \n",
    "   Expected Output:\n",
    "   \n",
    "   '# your answer"
   ]
  },
  {
   "cell_type": "code",
   "execution_count": 10,
   "metadata": {},
   "outputs": [],
   "source": [
    "# A tuple is immutable while lists are mutable. This means that you can not change elements of a tuple, while you can for a list"
   ]
  },
  {
   "cell_type": "markdown",
   "metadata": {},
   "source": [
    "#10 Create a function: getDomain() that grabs the email website domain from a string in the form:\n",
    "\n",
    "    user@domain.com\n",
    "    \n",
    "    Sample Expected Output:\n",
    "    \n",
    "    getDomain('jwkics@rit.edu') ==> 'rit.edu'"
   ]
  },
  {
   "cell_type": "code",
   "execution_count": 5,
   "metadata": {},
   "outputs": [],
   "source": []
  },
  {
   "cell_type": "code",
   "execution_count": 10,
   "metadata": {},
   "outputs": [
    {
     "data": {
      "text/plain": [
       "'rit.edu'"
      ]
     },
     "execution_count": 10,
     "metadata": {},
     "output_type": "execute_result"
    }
   ],
   "source": [
    "def getDomain(email):\n",
    "    return(email.split('@')[1])\n",
    "getDomain('jwkics@rit.edu')"
   ]
  },
  {
   "cell_type": "markdown",
   "metadata": {},
   "source": [
    "#11 \n",
    "\n",
    "    Create a basic function that returns True if the word 'dog' is contained in the input string. \n",
    "    Don't worry about edge cases like a punctuation being attached to the word dog, but do account for \n",
    "    capitalization.\n",
    "    \n",
    "    Expected Output:\n",
    "    \n",
    "    findDog('Is there a Dog here?') ==> True"
   ]
  },
  {
   "cell_type": "code",
   "execution_count": 7,
   "metadata": {},
   "outputs": [],
   "source": []
  },
  {
   "cell_type": "code",
   "execution_count": 15,
   "metadata": {},
   "outputs": [
    {
     "data": {
      "text/plain": [
       "True"
      ]
     },
     "execution_count": 15,
     "metadata": {},
     "output_type": "execute_result"
    }
   ],
   "source": [
    "def findDog(str):\n",
    "    str_list = str.lower().split(\" \")\n",
    "    return 'dog' in str_list\n",
    "findDog('Is there a Dog here?')"
   ]
  },
  {
   "cell_type": "markdown",
   "metadata": {},
   "source": [
    "#12 \n",
    "\n",
    "Create a function that counts the number of times the word \"dog\" occurs in a string.\n",
    "\n",
    "    Expected Output:\n",
    "\n",
    "    countDog('This dog runs faster than the other dog the Maltese!') ==> 2"
   ]
  },
  {
   "cell_type": "code",
   "execution_count": 16,
   "metadata": {},
   "outputs": [],
   "source": []
  },
  {
   "cell_type": "code",
   "execution_count": 16,
   "metadata": {},
   "outputs": [
    {
     "data": {
      "text/plain": [
       "2"
      ]
     },
     "execution_count": 16,
     "metadata": {},
     "output_type": "execute_result"
    }
   ],
   "source": [
    "def countDog(str):\n",
    "    cnt = 0\n",
    "    str_list = str.lower().split(\" \")\n",
    "    for word in str_list:\n",
    "        if(word == 'dog'):\n",
    "            cnt+=1\n",
    "    return cnt\n",
    "countDog('This dog runs faster than the other dog the Maltese!')"
   ]
  },
  {
   "cell_type": "markdown",
   "metadata": {},
   "source": [
    "#13 \n",
    "\n",
    "Use lambda expressions and the filter() function to filter out words from a list that starts with the letter 's'. For example:**\n",
    "\n",
    "    seq = ['soup','dog','salad','cat','great']\n",
    "\n",
    "    Expected Output:\n",
    "\n",
    "    ['soup','salad']"
   ]
  },
  {
   "cell_type": "code",
   "execution_count": 20,
   "metadata": {},
   "outputs": [],
   "source": []
  },
  {
   "cell_type": "code",
   "execution_count": 33,
   "metadata": {},
   "outputs": [
    {
     "name": "stdout",
     "output_type": "stream",
     "text": [
      "['soup', 'salad']\n"
     ]
    }
   ],
   "source": [
    "seq = ['soup','dog','salad','cat','great']\n",
    "res = filter(lambda word: word.startswith('s'),seq)\n",
    "print(list(res))\n"
   ]
  },
  {
   "cell_type": "markdown",
   "metadata": {},
   "source": [
    "#14 \n",
    "\n",
    "Create a class Student initialized with name, course_major, and the student's grade percentage. \n",
    "Also, define a class attribute that provides the institution's name, and it will be the same for all the students since they are all RIT students. Then create two objects of this class and display the information.\n",
    "\n",
    "    Sample Expected Output:\n",
    "    \n",
    "    Student 1: Michael of RIT @ DS has got 96%.\n",
    "    Student 2: Jane of RIT @ IST has got 84%."
   ]
  },
  {
   "cell_type": "code",
   "execution_count": 30,
   "metadata": {},
   "outputs": [
    {
     "name": "stdout",
     "output_type": "stream",
     "text": [
      "Student 1: Michael of RIT @ DS has got 96%.\n",
      "Student 1: Jane of RIT @ IST has got 84%.\n"
     ]
    }
   ],
   "source": [
    "class Student:\n",
    "    def __init__(self,name,course_major,gpa):\n",
    "        self.name = name\n",
    "        self.course_major = course_major\n",
    "        self.gpa = gpa\n",
    "        self.institution = \"RIT\"\n",
    "    def toStr(self):\n",
    "        return \"{} of {} @ {} has got {}%.\".format(self.name,self.institution,self.course_major,self.gpa)\n",
    "student1 = Student(\"Michael\",\"DS\",96)\n",
    "student2 = Student(\"Jane\",\"IST\",84)\n",
    "print(\"Student 1: {}\".format(student1.toStr()))\n",
    "print(\"Student 1: {}\".format(student2.toStr()))"
   ]
  },
  {
   "cell_type": "markdown",
   "metadata": {},
   "source": [
    "#15 \n",
    "\n",
    "  You are driving a little too fast, and a police officer stops you. Write a function\n",
    "  to return one of 3 possible results: \"No ticket\", \"Small ticket\", or \"Big Ticket\". \n",
    "  If your speed is 60 or less, the result is \"No Ticket\". If speed is between 61 \n",
    "  and 80 inclusive, the result is \"Small Ticket\". If speed is 81 or more, the result is \"Big    Ticket\". Unless it is your birthday (encoded as a boolean value in the parameters of the function) -- on your birthday, your speed can be 5 higher in all cases.\n",
    "  \n",
    "      Sample Expected Output:\n",
    "      \n",
    "      caught_speeding(81,True) ==> 'Small Ticket'\n",
    "      caught_speeding(81,False) ==> 'Big Ticket'\n",
    "      "
   ]
  },
  {
   "cell_type": "code",
   "execution_count": 26,
   "metadata": {},
   "outputs": [],
   "source": [
    "def caught_speeding(speed,birthday):\n",
    "    if birthday:\n",
    "        speed = speed - 5\n",
    "    if speed <= 60:\n",
    "        return \"No ticket\"\n",
    "    elif speed > 80:\n",
    "        return \"Big Ticket\"\n",
    "    else:\n",
    "        return \"Small Ticket\"    "
   ]
  },
  {
   "cell_type": "code",
   "execution_count": 27,
   "metadata": {},
   "outputs": [
    {
     "data": {
      "text/plain": [
       "'Small Ticket'"
      ]
     },
     "execution_count": 27,
     "metadata": {},
     "output_type": "execute_result"
    }
   ],
   "source": [
    "caught_speeding(81,True)"
   ]
  },
  {
   "cell_type": "code",
   "execution_count": 28,
   "metadata": {},
   "outputs": [
    {
     "data": {
      "text/plain": [
       "'Big Ticket'"
      ]
     },
     "execution_count": 28,
     "metadata": {},
     "output_type": "execute_result"
    }
   ],
   "source": [
    "caught_speeding(81,False)"
   ]
  },
  {
   "cell_type": "markdown",
   "metadata": {},
   "source": [
    "## End of Lab #1"
   ]
  }
 ],
 "metadata": {
  "kernelspec": {
   "display_name": "Python 3",
   "language": "python",
   "name": "python3"
  },
  "language_info": {
   "codemirror_mode": {
    "name": "ipython",
    "version": 3
   },
   "file_extension": ".py",
   "mimetype": "text/x-python",
   "name": "python",
   "nbconvert_exporter": "python",
   "pygments_lexer": "ipython3",
   "version": "3.8.8"
  }
 },
 "nbformat": 4,
 "nbformat_minor": 1
}
