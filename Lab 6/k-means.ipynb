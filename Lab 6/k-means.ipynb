{
 "cells": [
  {
   "cell_type": "markdown",
   "metadata": {},
   "source": [
    "# DSCI-633 Lab #6 (python)\n",
    "# K-Means Algorithm\n",
    "\n",
    "## Complete find_closest_centroid( )  and \n",
    "## Complete calc_centroids( ).\n",
    "\n",
    "### Name: Stephen Cook"
   ]
  },
  {
   "cell_type": "code",
   "execution_count": 18,
   "metadata": {},
   "outputs": [],
   "source": [
    "# Import all needed libraries\n",
    "import numpy as np\n",
    "import pandas as pd\n",
    "import numpy.matlib"
   ]
  },
  {
   "cell_type": "code",
   "execution_count": 19,
   "metadata": {},
   "outputs": [],
   "source": [
    "# upload iris dataset\n",
    "df = pd.read_csv('iris.csv')\n",
    "df.columns = ['SepalLengthCm', 'SepalWidthCm', 'PetalLengthCm', 'PetalWidthCm', 'species']"
   ]
  },
  {
   "cell_type": "code",
   "execution_count": 20,
   "metadata": {},
   "outputs": [],
   "source": [
    "# Use all records in the dataset withoout classes ('species' column) for cluster analysis\n",
    "cluster_data = df[['SepalLengthCm', 'SepalWidthCm', 'PetalLengthCm', 'PetalWidthCm']].copy(deep=True)\n",
    "\n",
    "# Sort the dataset by attributes to select the suboptimal starting centroid\n",
    "cluster_data.sort_values(by=['SepalLengthCm', 'SepalWidthCm', 'PetalLengthCm', 'PetalWidthCm'], inplace=True)\n",
    "cluster_array = np.array(cluster_data)"
   ]
  },
  {
   "cell_type": "code",
   "execution_count": 21,
   "metadata": {},
   "outputs": [
    {
     "name": "stdout",
     "output_type": "stream",
     "text": [
      "[[4.3 3.  1.1 0.1]\n",
      " [4.4 2.9 1.4 0.2]\n",
      " [4.4 3.  1.3 0.2]\n",
      " [4.4 3.2 1.3 0.2]\n",
      " [4.5 2.3 1.3 0.3]\n",
      " [4.6 3.1 1.5 0.2]\n",
      " [4.6 3.2 1.4 0.2]\n",
      " [4.6 3.4 1.4 0.3]\n",
      " [4.6 3.6 1.  0.2]\n",
      " [4.7 3.2 1.3 0.2]]\n"
     ]
    }
   ],
   "source": [
    "print(cluster_array[0:10])"
   ]
  },
  {
   "cell_type": "code",
   "execution_count": 22,
   "metadata": {},
   "outputs": [
    {
     "data": {
      "text/plain": "149"
     },
     "execution_count": 22,
     "metadata": {},
     "output_type": "execute_result"
    }
   ],
   "source": [
    "cluster_array.shape[0]"
   ]
  },
  {
   "cell_type": "code",
   "execution_count": 23,
   "metadata": {},
   "outputs": [],
   "source": [
    "# Calculate Euclidean distance between two observations\n",
    "def distance(X1, X2):\n",
    "    return (sum((X1 - X2)**2))**0.5\n",
    "\n",
    "# Assign each point to its closest centroid\n",
    "def find_closest_centroid(centroids, cluster_array):\n",
    "    clusters = []\n",
    "    for i in range(cluster_array.shape[0]):\n",
    "        distances = []\n",
    "        for centroid in centroids:\n",
    "            distances.append(distance(centroid, cluster_array[i]))\n",
    "            cluster = [z for z, val in enumerate(distances) if  val == min(distances)]\n",
    "            clusters.append(cluster[0])\n",
    "#### Complete this #########\n",
    "    \n",
    "    return clusters\n",
    "\n",
    "# Calculate new centroids based on each cluster's mean\n",
    "def calc_centroids(clusters, cluster_array):\n",
    "    new_centroids = []\n",
    "    cluster_df = pd.concat([pd.DataFrame(cluster_array), pd.DataFrame(clusters, columns=['cluster'])], axis=1)\n",
    "    for c in set(cluster_df['cluster']):\n",
    "        current_cluster = cluster_df[cluster_df['cluster']==c][cluster_df.columns[:-1]]\n",
    "        cluster_mean = current_cluster.mean(axis=0)\n",
    "        new_centroids.append(cluster_mean)\n",
    "#### Complete this #########\n",
    "\n",
    "    return new_centroids\n",
    "\n",
    "# Calculate SSE (Sum of the Squared Error) within each cluster\n",
    "\n",
    "def calc_SSE(clusters, cluster_array):\n",
    "    sum_squares = []\n",
    "    cluster_df = pd.concat([pd.DataFrame(cluster_array),\n",
    "                            pd.DataFrame(clusters, \n",
    "                                         columns=['cluster'])], \n",
    "                           axis=1)\n",
    "    for c in set(cluster_df['cluster']):\n",
    "        current_cluster = cluster_df[cluster_df['cluster']\\\n",
    "                                     ==c][cluster_df.columns[:-1]]\n",
    "        cluster_mean = current_cluster.mean(axis=0)\n",
    "        mean_repmat = np.matlib.repmat(cluster_mean, \n",
    "                                       current_cluster.shape[0],1)\n",
    "        sum_squares.append(np.sum(np.sum((current_cluster - mean_repmat)**2)))\n",
    "    return sum_squares"
   ]
  },
  {
   "cell_type": "code",
   "execution_count": 24,
   "metadata": {},
   "outputs": [
    {
     "name": "stdout",
     "output_type": "stream",
     "text": [
      "[0, 0, 0, 0, 0, 0, 0, 0, 0, 0, 0, 0, 0, 1, 1, 1, 0, 0, 2, 2, 0, 0, 0, 3, 0, 1, 1, 3, 0, 1, 1, 1, 0, 1, 1, 1, 0, 1, 1, 3, 0, 1, 1, 3, 0, 0, 0, 3, 0, 0, 0, 3, 0, 0, 0, 3, 0, 1, 1, 3, 0, 1, 1, 3, 0, 0, 2, 3, 0, 0, 2, 3, 0, 0, 0, 3, 0, 0, 0, 3, 0, 0, 0, 3, 0, 0, 0, 3, 0, 0, 2, 2, 0, 0, 2, 3, 0, 0, 0, 3, 0, 1, 1, 3, 0, 1, 1, 3, 0, 1, 1, 3, 0, 1, 1, 3, 0, 1, 1, 3, 0, 1, 1, 3, 0, 1, 1, 3, 0, 0, 2, 3, 0, 1, 1, 3, 0, 1, 1, 3, 0, 1, 1, 3, 0, 1, 1, 3, 0, 1, 1, 3, 0, 1, 1, 3, 0, 1, 1, 3, 0, 0, 2, 3, 0, 1, 1, 3, 0, 1, 1, 3, 0, 1, 1, 3, 0, 1, 1, 3, 0, 0, 0, 3, 0, 1, 1, 3, 0, 1, 1, 3, 0, 1, 1, 3, 0, 1, 1, 3, 0, 1, 1, 3, 0, 0, 2, 3, 0, 0, 2, 3, 0, 0, 2, 3, 0, 0, 2, 3, 0, 0, 2, 3, 0, 1, 1, 3, 0, 1, 1, 3, 0, 0, 2, 3, 0, 0, 2, 3, 0, 0, 2, 3, 0, 0, 2, 3, 0, 0, 0, 3, 0, 0, 0, 3, 0, 0, 2, 3, 0, 0, 2, 3, 0, 0, 2, 3, 0, 0, 2, 3, 0, 0, 2, 3, 0, 0, 0, 3, 0, 1, 1, 3, 0, 1, 1, 3, 0, 0, 2, 3, 0, 0, 2, 3, 0, 0, 2, 3, 0, 0, 2, 3, 0, 0, 2, 3, 0, 0, 2, 3, 0, 1, 1, 3, 0, 0, 2, 3, 0, 0, 2, 3, 0, 1, 1, 3, 0, 0, 2, 3, 0, 0, 2, 3, 0, 0, 2, 3, 0, 0, 2, 3, 0, 0, 2, 3, 0, 1, 1, 3, 0, 0, 2, 3, 0, 0, 2, 3, 0, 0, 2, 3, 0, 0, 2, 3, 0, 0, 2, 3, 0, 0, 2, 3, 0, 0, 2, 3, 0, 0, 2, 3, 0, 0, 2, 3, 0, 1, 1, 3, 0, 0, 2, 3, 0, 0, 2, 3, 0, 0, 2, 3, 0, 0, 2, 3, 0, 0, 2, 3, 0, 0, 2, 3, 0, 1, 1, 3, 0, 1, 1, 3, 0, 1, 1, 3, 0, 0, 2, 3, 0, 0, 2, 3, 0, 0, 2, 3, 0, 0, 2, 3, 0, 0, 2, 3, 0, 1, 1, 3, 0, 1, 1, 3, 0, 0, 2, 3, 0, 0, 2, 3, 0, 0, 2, 3, 0, 0, 2, 3, 0, 1, 1, 3, 0, 0, 2, 3, 0, 0, 2, 3, 0, 0, 2, 3, 0, 0, 2, 3, 0, 0, 2, 3, 0, 0, 2, 3, 0, 0, 2, 3, 0, 0, 2, 3, 0, 1, 1, 3, 0, 1, 1, 3, 0, 0, 2, 3, 0, 0, 2, 3, 0, 1, 2, 3, 0, 0, 2, 3, 0, 0, 2, 3, 0, 0, 2, 3, 0, 1, 2, 3, 0, 1, 1, 3, 0, 0, 2, 3, 0, 0, 2, 3, 0, 1, 2, 3, 0, 1, 1, 3, 0, 0, 2, 3, 0, 0, 2, 3, 0, 0, 2, 3, 0, 0, 2, 3, 0, 0, 2, 3, 0, 0, 2, 3, 0, 1, 1, 3, 0, 1, 1, 3]\n",
      "0 161\n"
     ]
    }
   ],
   "source": [
    "k = 4\n",
    "cluster_vars = []\n",
    "\n",
    "centroids = [cluster_array[i+2] for i in range(k)]\n",
    "clusters = find_closest_centroid(centroids, cluster_array)\n",
    "initial_clusters = clusters\n",
    "print(initial_clusters)\n",
    "print(0, round(np.mean(calc_SSE(clusters, cluster_array))))"
   ]
  },
  {
   "cell_type": "code",
   "execution_count": 25,
   "metadata": {},
   "outputs": [
    {
     "name": "stdout",
     "output_type": "stream",
     "text": [
      "1 166\n",
      "2 337\n",
      "3 319\n",
      "4 333\n",
      "5 333\n",
      "6 333\n",
      "7 333\n",
      "8 333\n",
      "9 333\n",
      "10 333\n",
      "11 333\n",
      "12 333\n",
      "13 333\n",
      "14 333\n",
      "15 333\n",
      "16 333\n",
      "17 333\n",
      "18 333\n",
      "19 333\n",
      "20 333\n",
      "[0    5.836054\n",
      "1    3.056463\n",
      "2    3.753741\n",
      "3    1.200000\n",
      "dtype: float64, 0    6.75\n",
      "1    2.65\n",
      "2    5.30\n",
      "3    1.60\n",
      "dtype: float64]\n",
      "[0, 0, 0, 0, 0, 0, 0, 0, 0, 0, 0, 0, 0, 0, 0, 0, 0, 0, 0, 0, 0, 0, 0, 0, 0, 0, 0, 0, 0, 0, 0, 0, 0, 0, 0, 0, 0, 0, 0, 0, 0, 0, 0, 0, 0, 0, 0, 0, 0, 0, 0, 0, 0, 0, 0, 0, 0, 0, 0, 0, 0, 0, 0, 0, 0, 0, 0, 0, 0, 0, 0, 0, 0, 0, 0, 0, 0, 0, 0, 0, 0, 0, 0, 0, 0, 0, 0, 0, 0, 0, 0, 0, 0, 0, 0, 0, 0, 0, 0, 0, 0, 0, 0, 0, 0, 0, 0, 0, 0, 0, 0, 0, 0, 0, 0, 0, 0, 0, 0, 0, 0, 1, 0, 0, 0, 0, 0, 0, 0, 1, 0, 0, 0, 0, 0, 0, 0, 0, 0, 0, 0, 0, 0, 0, 0, 0, 0, 0, 0, 0, 0, 1, 0, 1, 0, 1, 0, 0, 0, 0, 0, 1, 0, 1, 0, 0, 0, 1, 0, 1, 0, 0, 0, 1, 0, 0, 0, 1, 0, 0, 0, 1, 0, 1, 0, 0, 0, 1, 0, 1, 0, 1, 0, 0, 0, 1, 0, 0, 0, 1, 0, 1, 0, 1, 0, 1, 0, 1, 0, 1, 0, 1, 0, 1, 0, 1, 0, 1, 0, 1, 0, 0, 0, 1, 0, 0, 0, 1, 0, 1, 0, 1, 0, 1, 0, 1, 0, 1, 0, 1, 0, 1, 0, 1, 0, 1, 0, 1, 0, 1, 0, 1, 0, 1, 0, 1, 0, 1, 0, 1, 0, 1, 0, 1, 0, 1, 0, 1, 0, 1, 0, 1, 0, 1, 0, 1, 0, 1, 0, 1, 0, 1, 0, 1, 0, 1, 0, 1, 0, 1, 0, 1, 0, 1, 0, 1, 0, 1]\n"
     ]
    }
   ],
   "source": [
    "\n",
    "for i in range(20):\n",
    "    centroids = calc_centroids(clusters, cluster_array)\n",
    "    clusters = find_closest_centroid(centroids, cluster_array)\n",
    "    cluster_var = np.mean(calc_SSE(clusters, cluster_array))\n",
    "    cluster_vars.append(cluster_var)\n",
    "    print(i+1, round(cluster_var))\n",
    "print(centroids)\n",
    "print(clusters)"
   ]
  }
 ],
 "metadata": {
  "kernelspec": {
   "display_name": "Python 3",
   "language": "python",
   "name": "python3"
  },
  "language_info": {
   "codemirror_mode": {
    "name": "ipython",
    "version": 3
   },
   "file_extension": ".py",
   "mimetype": "text/x-python",
   "name": "python",
   "nbconvert_exporter": "python",
   "pygments_lexer": "ipython3",
   "version": "3.9.4"
  }
 },
 "nbformat": 4,
 "nbformat_minor": 2
}