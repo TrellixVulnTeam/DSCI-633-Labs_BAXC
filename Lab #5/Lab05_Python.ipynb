{
 "cells": [
  {
   "cell_type": "markdown",
   "id": "83c4d053",
   "metadata": {},
   "source": [
    "# DSCI-633 Lab #5 (python)\n",
    "# Associate Rule Mining\n",
    "\n",
    "## step_2: Complete two-item frequent item sets  and \n",
    "## step_3: Complete three-item frequent item sets.\n",
    "\n",
    "### Name: Stephen Cook"
   ]
  },
  {
   "cell_type": "code",
   "execution_count": 9,
   "id": "059dc5b6",
   "metadata": {},
   "outputs": [],
   "source": [
    "# Import all needed libraries\n",
    "import pandas as pd\n",
    "import itertools"
   ]
  },
  {
   "cell_type": "code",
   "execution_count": 10,
   "id": "7a45ffbd",
   "metadata": {},
   "outputs": [
    {
     "data": {
      "text/plain": "       0       1       2     3     4\n0  Bread    Milk     NaN   NaN   NaN\n1  Bread  Diaper    Beer  Eggs   NaN\n2  Bread    Milk  Diaper  Beer  Coke\n3  Bread  Diaper    Beer   NaN   NaN\n4  Bread  Diaper    Coke   NaN   NaN",
      "text/html": "<div>\n<style scoped>\n    .dataframe tbody tr th:only-of-type {\n        vertical-align: middle;\n    }\n\n    .dataframe tbody tr th {\n        vertical-align: top;\n    }\n\n    .dataframe thead th {\n        text-align: right;\n    }\n</style>\n<table border=\"1\" class=\"dataframe\">\n  <thead>\n    <tr style=\"text-align: right;\">\n      <th></th>\n      <th>0</th>\n      <th>1</th>\n      <th>2</th>\n      <th>3</th>\n      <th>4</th>\n    </tr>\n  </thead>\n  <tbody>\n    <tr>\n      <th>0</th>\n      <td>Bread</td>\n      <td>Milk</td>\n      <td>NaN</td>\n      <td>NaN</td>\n      <td>NaN</td>\n    </tr>\n    <tr>\n      <th>1</th>\n      <td>Bread</td>\n      <td>Diaper</td>\n      <td>Beer</td>\n      <td>Eggs</td>\n      <td>NaN</td>\n    </tr>\n    <tr>\n      <th>2</th>\n      <td>Bread</td>\n      <td>Milk</td>\n      <td>Diaper</td>\n      <td>Beer</td>\n      <td>Coke</td>\n    </tr>\n    <tr>\n      <th>3</th>\n      <td>Bread</td>\n      <td>Diaper</td>\n      <td>Beer</td>\n      <td>NaN</td>\n      <td>NaN</td>\n    </tr>\n    <tr>\n      <th>4</th>\n      <td>Bread</td>\n      <td>Diaper</td>\n      <td>Coke</td>\n      <td>NaN</td>\n      <td>NaN</td>\n    </tr>\n  </tbody>\n</table>\n</div>"
     },
     "execution_count": 10,
     "metadata": {},
     "output_type": "execute_result"
    }
   ],
   "source": [
    "# upload supermarket dataset -  shape is (5, 5)\n",
    "df = pd.read_csv('supermarket.csv')\n",
    "df"
   ]
  },
  {
   "cell_type": "code",
   "execution_count": 11,
   "id": "c4a30191",
   "metadata": {},
   "outputs": [
    {
     "data": {
      "text/plain": "(5, 5)"
     },
     "execution_count": 11,
     "metadata": {},
     "output_type": "execute_result"
    }
   ],
   "source": [
    "df.shape"
   ]
  },
  {
   "cell_type": "code",
   "execution_count": 12,
   "id": "d59899ec",
   "metadata": {},
   "outputs": [
    {
     "data": {
      "text/plain": "[['Bread', 'Milk', 'nan', 'nan', 'nan'],\n ['Bread', 'Diaper', 'Beer', 'Eggs', 'nan'],\n ['Bread', 'Milk', 'Diaper', 'Beer', 'Coke'],\n ['Bread', 'Diaper', 'Beer', 'nan', 'nan'],\n ['Bread', 'Diaper', 'Coke', 'nan', 'nan']]"
     },
     "execution_count": 12,
     "metadata": {},
     "output_type": "execute_result"
    }
   ],
   "source": [
    "# minimum support (minSup) count\n",
    "minSup = 3\n",
    "records = []\n",
    "for i in range(len(df)):\n",
    "    records.append([str(df.values[i,j]) for j in range(len(df.columns))])\n",
    "records"
   ]
  },
  {
   "cell_type": "code",
   "execution_count": 13,
   "outputs": [
    {
     "data": {
      "text/plain": "['Beer',\n 'Beer',\n 'Beer',\n 'Bread',\n 'Bread',\n 'Bread',\n 'Bread',\n 'Bread',\n 'Coke',\n 'Coke',\n 'Diaper',\n 'Diaper',\n 'Diaper',\n 'Diaper',\n 'Eggs',\n 'Milk',\n 'Milk']"
     },
     "execution_count": 13,
     "metadata": {},
     "output_type": "execute_result"
    }
   ],
   "source": [
    "items = sorted([item for sublist in records for item in sublist if item != 'nan'])\n",
    "items"
   ],
   "metadata": {
    "collapsed": false,
    "pycharm": {
     "name": "#%%\n"
    }
   }
  },
  {
   "cell_type": "code",
   "execution_count": 14,
   "outputs": [],
   "source": [
    "def check_subset_frequency(itemset, l ,n):\n",
    "    if n>1:\n",
    "        subset = list(itertools.combinations(itemset,n))\n",
    "    else:\n",
    "        subset = itemset\n",
    "    for iter1 in subset:\n",
    "        if not iter1 in l:\n",
    "            return False\n",
    "    return True\n",
    "\n",
    "'''\n",
    "This definition is the same as Q2.1\n",
    "Form the item sets containing one item. \n",
    "minSup = 60%\n",
    "'''\n",
    "def step_1(items, minSup):\n",
    "    c1 = {i:items.count(i) for i in items}  # candidate one item set\n",
    "    l1 = {} # frequent one item set\n",
    "    for key, value in c1.items():\n",
    "        if value >= minSup:\n",
    "           l1[key] = value \n",
    "    \n",
    "    return c1, l1"
   ],
   "metadata": {
    "collapsed": false,
    "pycharm": {
     "name": "#%%\n"
    }
   }
  },
  {
   "cell_type": "code",
   "execution_count": 15,
   "id": "cc473007",
   "metadata": {},
   "outputs": [],
   "source": [
    "def check_subset_frequency(itemset, l ,n):\n",
    "    if n>1:\n",
    "        subset = list(itertools.combinations(itemset,n))\n",
    "    else:\n",
    "        subset = itemset\n",
    "    for iter1 in subset:\n",
    "        if not iter1 in l:\n",
    "            return False\n",
    "    return True\n",
    "\n",
    "'''\n",
    "This definition is the same as Q2.1\n",
    "Form the item sets containing one item. \n",
    "minSup = 60%\n",
    "'''\n",
    "def step_1(items, minSup):\n",
    "    c1 = {i:items.count(i) for i in items}  # candidate one item set\n",
    "    l1 = {} # frequent one item set\n",
    "    for key, value in c1.items():\n",
    "        if value >= minSup:\n",
    "           l1[key] = value \n",
    "    \n",
    "    return c1, l1"
   ]
  },
  {
   "cell_type": "code",
   "execution_count": 16,
   "id": "eec56545",
   "metadata": {},
   "outputs": [
    {
     "name": "stdout",
     "output_type": "stream",
     "text": [
      "L1 => {'Beer': 3, 'Bread': 5, 'Diaper': 4}\n"
     ]
    }
   ],
   "source": [
    "c1, l1 = step_1(items,minSup)\n",
    "print(\"L1 =>\", l1)"
   ]
  },
  {
   "cell_type": "code",
   "execution_count": 17,
   "id": "863a1d56",
   "metadata": {},
   "outputs": [],
   "source": [
    "'''\n",
    "Q3.1\n",
    "\n",
    "Let's form the item sets containing two items.\n",
    "We only take the item sets from step_1 (Q2.1)\n",
    "'''\n",
    "def step_2(l1, records, minSup):\n",
    "    \n",
    "    # You can use your own statements than ones given below\n",
    "    l1 = sorted(list(l1.keys()))\n",
    "    L1 = list(itertools.combinations(l1, 2))\n",
    "    c2 = {}\n",
    "    l2 = {}\n",
    "    for i in L1:\n",
    "        count = 0\n",
    "        for j in records:\n",
    "            if set(i) <= set(j):\n",
    "                count +=1\n",
    "        c2[i] = count\n",
    "    for key,value in c2.items():\n",
    "        if value >= minSup:\n",
    "            l2[key] = value\n",
    "    return c2, l2  # candidate and frequent two item sets"
   ]
  },
  {
   "cell_type": "code",
   "execution_count": 18,
   "id": "ae0f0f41",
   "metadata": {
    "collapsed": true
   },
   "outputs": [
    {
     "name": "stdout",
     "output_type": "stream",
     "text": [
      "L2 => {('Beer', 'Bread'): 3, ('Beer', 'Diaper'): 3, ('Bread', 'Diaper'): 4}\n"
     ]
    }
   ],
   "source": [
    "c2, l2 = step_2(l1, records, minSup)\n",
    "print(\"L2 =>\", l2)"
   ]
  },
  {
   "cell_type": "code",
   "execution_count": 19,
   "id": "0f02c55d",
   "metadata": {},
   "outputs": [],
   "source": [
    "'''\n",
    "Q3.2\n",
    "\n",
    "Let's for the item sets containing three items from step_2 (Q2.2)\n",
    "'''\n",
    "def step_3(l2, records, minSup):\n",
    "    \n",
    "    # You can use your own statements than ones given below\n",
    "    \n",
    "    l2 = list(l2.keys())\n",
    "    L2 = sorted(list(set([item for t in l2 for item in t])))\n",
    "    L2 = list(itertools.combinations(L2, 3))\n",
    "    c3 = {}\n",
    "    l3 = {}\n",
    "    for i in L2:\n",
    "        count =0\n",
    "        for j in records:\n",
    "            if set(i) <= set(j):\n",
    "                count+=1\n",
    "        c3[i] = count\n",
    "    for key, value in c3.items():\n",
    "        if value >= minSup:\n",
    "            l3[key] = value\n",
    "\n",
    "    return c3, l3  # candidate and frequent three item sets"
   ]
  },
  {
   "cell_type": "code",
   "execution_count": 20,
   "id": "6621c19e",
   "metadata": {},
   "outputs": [
    {
     "name": "stdout",
     "output_type": "stream",
     "text": [
      "L3 => {('Beer', 'Bread', 'Diaper'): 3}\n"
     ]
    }
   ],
   "source": [
    "c3, l3 = step_3(l2, records, minSup)\n",
    "print(\"L3 =>\", l3)"
   ]
  }
 ],
 "metadata": {
  "kernelspec": {
   "display_name": "Python 3",
   "language": "python",
   "name": "python3"
  },
  "language_info": {
   "codemirror_mode": {
    "name": "ipython",
    "version": 3
   },
   "file_extension": ".py",
   "mimetype": "text/x-python",
   "name": "python",
   "nbconvert_exporter": "python",
   "pygments_lexer": "ipython3",
   "version": "3.7.9"
  }
 },
 "nbformat": 4,
 "nbformat_minor": 5
}