{
 "cells": [
  {
   "cell_type": "markdown",
   "id": "cca5156e",
   "metadata": {},
   "source": [
    "# DSCI-633-03 Lab #3\n",
    "## Machine Learning in Python\n",
    "\n",
    "## Your Name: Stephen Cook"
   ]
  },
  {
   "cell_type": "markdown",
   "id": "d47e7181",
   "metadata": {},
   "source": [
    "### 1. Load the dataset"
   ]
  },
  {
   "cell_type": "code",
   "execution_count": 1,
   "id": "7d644707",
   "metadata": {},
   "outputs": [
    {
     "ename": "ModuleNotFoundError",
     "evalue": "No module named 'sklearn'",
     "output_type": "error",
     "traceback": [
      "\u001B[1;31m---------------------------------------------------------------------------\u001B[0m",
      "\u001B[1;31mModuleNotFoundError\u001B[0m                       Traceback (most recent call last)",
      "\u001B[1;32m~\\AppData\\Local\\Temp/ipykernel_2736/3439508111.py\u001B[0m in \u001B[0;36m<module>\u001B[1;34m\u001B[0m\n\u001B[0;32m      4\u001B[0m \u001B[1;32mfrom\u001B[0m \u001B[0mpandas\u001B[0m\u001B[1;33m.\u001B[0m\u001B[0mplotting\u001B[0m \u001B[1;32mimport\u001B[0m \u001B[0mscatter_matrix\u001B[0m\u001B[1;33m\u001B[0m\u001B[1;33m\u001B[0m\u001B[0m\n\u001B[0;32m      5\u001B[0m \u001B[1;31m#import seaborn as sns\u001B[0m\u001B[1;33m\u001B[0m\u001B[1;33m\u001B[0m\u001B[1;33m\u001B[0m\u001B[0m\n\u001B[1;32m----> 6\u001B[1;33m \u001B[1;32mfrom\u001B[0m \u001B[0msklearn\u001B[0m\u001B[1;33m.\u001B[0m\u001B[0mmodel_selection\u001B[0m \u001B[1;32mimport\u001B[0m \u001B[0mtrain_test_split\u001B[0m\u001B[1;33m\u001B[0m\u001B[1;33m\u001B[0m\u001B[0m\n\u001B[0m\u001B[0;32m      7\u001B[0m \u001B[1;32mimport\u001B[0m \u001B[0mmatplotlib\u001B[0m\u001B[1;33m.\u001B[0m\u001B[0mpyplot\u001B[0m \u001B[1;32mas\u001B[0m \u001B[0mplt\u001B[0m\u001B[1;33m\u001B[0m\u001B[1;33m\u001B[0m\u001B[0m\n\u001B[0;32m      8\u001B[0m \u001B[1;32mimport\u001B[0m \u001B[0mmatplotlib\u001B[0m \u001B[1;32mas\u001B[0m \u001B[0mpyplot\u001B[0m\u001B[1;33m\u001B[0m\u001B[1;33m\u001B[0m\u001B[0m\n",
      "\u001B[1;31mModuleNotFoundError\u001B[0m: No module named 'sklearn'"
     ]
    }
   ],
   "source": [
    "# Import libraries\n",
    "import numpy as np\n",
    "import pandas as pd\n",
    "from pandas.plotting import scatter_matrix\n",
    "#import seaborn as sns\n",
    "from sklearn.model_selection import train_test_split\n",
    "import matplotlib.pyplot as plt\n",
    "import matplotlib as pyplot\n",
    "%matplotlib inline\n",
    "from sklearn.tree import DecisionTreeClassifier\n",
    "from sklearn import tree"
   ]
  },
  {
   "cell_type": "code",
   "execution_count": 88,
   "id": "e20a85db",
   "metadata": {},
   "outputs": [],
   "source": [
    "# Load Iris data (Q1)\n",
    "filename = 'iris.csv'\n",
    "names = ['sepal-length', 'sepal-width', 'petal-length', 'petal-width', 'class'] #Column names\n",
    "# Panda read_csv() for reading the iris csv file\n",
    "df = pd.read_csv(filename)"
   ]
  },
  {
   "cell_type": "markdown",
   "id": "d308663f",
   "metadata": {},
   "source": [
    "### 2. Summarize the Dataset"
   ]
  },
  {
   "cell_type": "code",
   "execution_count": 89,
   "id": "d152a015",
   "metadata": {},
   "outputs": [
    {
     "name": "stdout",
     "output_type": "stream",
     "text": [
      "Number of instances: 150\n",
      "Number of attributes: 5\n"
     ]
    }
   ],
   "source": [
    "# Q2.1 How many instances are there?\n",
    "# Q2.2 How many attributes are there?\n",
    "\n",
    "print(\"Number of instances: \"   +   str(df.shape[0]))\n",
    "print(\"Number of attributes: \"  +   str(df.shape[1]))"
   ]
  },
  {
   "cell_type": "code",
   "execution_count": 90,
   "id": "b3cc7dfd",
   "metadata": {},
   "outputs": [
    {
     "name": "stdout",
     "output_type": "stream",
     "text": [
      "Number of attributes for class: 3\n"
     ]
    }
   ],
   "source": [
    "# Q2.3 How many possible values does the class attribute have?\n",
    "print(\"Number of attributes for class: \" + str(df['class'].nunique()))"
   ]
  },
  {
   "cell_type": "code",
   "execution_count": 91,
   "id": "de77961a",
   "metadata": {},
   "outputs": [
    {
     "name": "stdout",
     "output_type": "stream",
     "text": [
      "   sepallength  sepalwidth  petallength  petalwidth        class\n",
      "0          5.1         3.5          1.4         0.2  Iris-setosa\n",
      "1          4.9         3.0          1.4         0.2  Iris-setosa\n",
      "2          4.7         3.2          1.3         0.2  Iris-setosa\n",
      "3          4.6         3.1          1.5         0.2  Iris-setosa\n",
      "4          5.0         3.6          1.4         0.2  Iris-setosa\n",
      "5          5.4         3.9          1.7         0.4  Iris-setosa\n",
      "6          4.6         3.4          1.4         0.3  Iris-setosa\n",
      "7          5.0         3.4          1.5         0.2  Iris-setosa\n",
      "8          4.4         2.9          1.4         0.2  Iris-setosa\n",
      "9          4.9         3.1          1.5         0.1  Iris-setosa\n"
     ]
    }
   ],
   "source": [
    "# Display the first 10 records\n",
    "print(df.head(10))"
   ]
  },
  {
   "cell_type": "code",
   "execution_count": 92,
   "id": "7ba301f0",
   "metadata": {},
   "outputs": [
    {
     "name": "stdout",
     "output_type": "stream",
     "text": [
      "<class 'pandas.core.frame.DataFrame'>\n",
      "RangeIndex: 150 entries, 0 to 149\n",
      "Data columns (total 5 columns):\n",
      " #   Column       Non-Null Count  Dtype  \n",
      "---  ------       --------------  -----  \n",
      " 0   sepallength  150 non-null    float64\n",
      " 1   sepalwidth   150 non-null    float64\n",
      " 2   petallength  150 non-null    float64\n",
      " 3   petalwidth   150 non-null    float64\n",
      " 4   class        150 non-null    object \n",
      "dtypes: float64(4), object(1)\n",
      "memory usage: 6.0+ KB\n",
      "None\n"
     ]
    }
   ],
   "source": [
    "# Print information about a DataFrame\n",
    "print(df.info())"
   ]
  },
  {
   "cell_type": "code",
   "execution_count": 93,
   "id": "aa39bd9c",
   "metadata": {
    "scrolled": true
   },
   "outputs": [
    {
     "name": "stdout",
     "output_type": "stream",
     "text": [
      "       sepallength  sepalwidth  petallength  petalwidth\n",
      "count   150.000000  150.000000   150.000000  150.000000\n",
      "mean      5.843333    3.054000     3.758667    1.198667\n",
      "std       0.828066    0.433594     1.764420    0.763161\n",
      "min       4.300000    2.000000     1.000000    0.100000\n",
      "25%       5.100000    2.800000     1.600000    0.300000\n",
      "50%       5.800000    3.000000     4.350000    1.300000\n",
      "75%       6.400000    3.300000     5.100000    1.800000\n",
      "max       7.900000    4.400000     6.900000    2.500000\n"
     ]
    }
   ],
   "source": [
    "# View some statistical details\n",
    "print(df.describe())"
   ]
  },
  {
   "cell_type": "code",
   "execution_count": 94,
   "id": "d1d8c42d",
   "metadata": {},
   "outputs": [
    {
     "name": "stdout",
     "output_type": "stream",
     "text": [
      "Iris-setosa        50\n",
      "Iris-versicolor    50\n",
      "Iris-virginica     50\n",
      "Name: class, dtype: int64\n"
     ]
    }
   ],
   "source": [
    "# Q2.4 Class distribution: # records by class values\n",
    "class_values = df['class'].value_counts()\n",
    "print(class_values)"
   ]
  },
  {
   "cell_type": "markdown",
   "id": "63d29488",
   "metadata": {},
   "source": [
    "### 3. Data Visulization"
   ]
  },
  {
   "cell_type": "code",
   "execution_count": 95,
   "id": "a59e8af4",
   "metadata": {},
   "outputs": [
    {
     "data": {
      "text/plain": "<Figure size 432x288 with 1 Axes>",
      "image/png": "[encoded data removed]"
     },
     "metadata": {
      "needs_background": "light"
     },
     "output_type": "display_data"
    }
   ],
   "source": [
    "# box and whisker plots (Q3.1)\n",
    "df.plot(kind='box',subplots=False,sharex=False, sharey=False)\n",
    "plt.show()"
   ]
  },
  {
   "cell_type": "code",
   "execution_count": 96,
   "id": "cba85a4c",
   "metadata": {},
   "outputs": [
    {
     "data": {
      "text/plain": "array([<AxesSubplot:ylabel='Frequency'>, <AxesSubplot:ylabel='Frequency'>,\n       <AxesSubplot:ylabel='Frequency'>, <AxesSubplot:ylabel='Frequency'>],\n      dtype=object)"
     },
     "execution_count": 96,
     "metadata": {},
     "output_type": "execute_result"
    },
    {
     "data": {
      "text/plain": "<Figure size 432x288 with 4 Axes>",
      "image/png": "[encoded data removed]"
     },
     "metadata": {
      "needs_background": "light"
     },
     "output_type": "display_data"
    }
   ],
   "source": [
    "# histograms (3.2)\n",
    "df.plot(kind=\"hist\", subplots=True, sharex = True, sharey = True)"
   ]
  },
  {
   "cell_type": "code",
   "execution_count": 97,
   "id": "68153e51",
   "metadata": {},
   "outputs": [
    {
     "data": {
      "text/plain": "<Figure size 432x288 with 16 Axes>",
      "image/png": "[encoded data removed]"
     },
     "metadata": {
      "needs_background": "light"
     },
     "output_type": "display_data"
    }
   ],
   "source": [
    "# scatter plot matrix (3.3)\n",
    "scatter_matrix(df)\n",
    "plt.show()"
   ]
  },
  {
   "cell_type": "markdown",
   "id": "2568c07d",
   "metadata": {},
   "source": [
    "### 4. Decision Tree Model Building"
   ]
  },
  {
   "cell_type": "code",
   "execution_count": 98,
   "id": "753c300e",
   "metadata": {},
   "outputs": [
    {
     "name": "stdout",
     "output_type": "stream",
     "text": [
      "X Shape: rows: 150 columns: 4\n",
      "Y Shape: rows: 150 columns: 1\n"
     ]
    }
   ],
   "source": [
    "#wouldn't it be easier to split into training set and test set then split?\n",
    "\n",
    "# Q4.1: Splitting the dataset: \n",
    "X = df.loc[:, df.columns != 'class']     # X is having all the dependent varials\n",
    "y = df['class']                         # y is having an independent variable: 'class'\n",
    "print(\"X Shape: rows: \" + str(X.shape[0]) + \" columns: \" + str(X.shape[1])) # X & y shapes (# rows & # columns)\n",
    "# shape of the y dataset is (150,) this is causing errors\n",
    "print(\"Y Shape: rows: \" + str(y.shape[0]) + \" columns: 1\")"
   ]
  },
  {
   "cell_type": "code",
   "execution_count": 99,
   "id": "0aa8ff94",
   "metadata": {},
   "outputs": [],
   "source": [
    "# Q4.2: Train Test split: (80,20)\n",
    "\n",
    "# gets 80% of the data set randomly\n",
    "X_train = X.sample(frac=.8,replace=False)\n",
    "# gets the remaining values from the dataset\n",
    "X_test  = X.loc[X.index.difference(X_train.index)]\n",
    "# Get the corresponding values from the y set\n",
    "y_train, y_test = y.loc[X_train.index] , y.loc[X_test.index]"
   ]
  },
  {
   "cell_type": "code",
   "execution_count": 100,
   "id": "e922e4ba",
   "metadata": {},
   "outputs": [],
   "source": [
    "# Q4.3: Decision Tree Algorithm\n",
    "# Instantiate the DecisionTreeClassifier using Entropy for splitting attribues\n",
    "clf = DecisionTreeClassifier(criterion=\"entropy\", random_state=0)\n",
    "# Build a DT model using the Training dataset (X_train)\n",
    "classifier = clf.fit(X=X_train, y=y_train)\n",
    "# Test the model with X_test\n",
    "y_pred = classifier.predict(X_test)"
   ]
  },
  {
   "cell_type": "code",
   "execution_count": 101,
   "id": "0e151fe2",
   "metadata": {
    "collapsed": true
   },
   "outputs": [
    {
     "name": "stdout",
     "output_type": "stream",
     "text": [
      "[[ 8  0  0]\n",
      " [ 0 14  0]\n",
      " [ 0  1  7]]\n",
      "                 precision    recall  f1-score   support\n",
      "\n",
      "    Iris-setosa       1.00      1.00      1.00         8\n",
      "Iris-versicolor       0.93      1.00      0.97        14\n",
      " Iris-virginica       1.00      0.88      0.93         8\n",
      "\n",
      "       accuracy                           0.97        30\n",
      "      macro avg       0.98      0.96      0.97        30\n",
      "   weighted avg       0.97      0.97      0.97        30\n",
      "\n",
      "0.9666666666666667\n"
     ]
    }
   ],
   "source": [
    "#4.4:\n",
    "from sklearn.metrics import classification_report, confusion_matrix, accuracy_score\n",
    "# Generate Confidence Matrix\n",
    "print(confusion_matrix(y_true=y_test, y_pred=y_pred))\n",
    "# Classification Report\n",
    "print(classification_report(y_true=y_test, y_pred=y_pred ))\n",
    "# Accuracy\n",
    "print(accuracy_score(y_true=y_test, y_pred=y_pred))"
   ]
  },
  {
   "cell_type": "code",
   "execution_count": 102,
   "id": "faf0d63b",
   "metadata": {
    "collapsed": true
   },
   "outputs": [
    {
     "name": "stdout",
     "output_type": "stream",
     "text": [
      "|--- feature_3 <= 0.80\n",
      "|   |--- class: Iris-setosa\n",
      "|--- feature_3 >  0.80\n",
      "|   |--- feature_3 <= 1.75\n",
      "|   |   |--- feature_2 <= 5.35\n",
      "|   |   |   |--- feature_1 <= 2.55\n",
      "|   |   |   |   |--- feature_3 <= 1.40\n",
      "|   |   |   |   |   |--- class: Iris-versicolor\n",
      "|   |   |   |   |--- feature_3 >  1.40\n",
      "|   |   |   |   |   |--- feature_0 <= 6.10\n",
      "|   |   |   |   |   |   |--- class: Iris-virginica\n",
      "|   |   |   |   |   |--- feature_0 >  6.10\n",
      "|   |   |   |   |   |   |--- class: Iris-versicolor\n",
      "|   |   |   |--- feature_1 >  2.55\n",
      "|   |   |   |   |--- class: Iris-versicolor\n",
      "|   |   |--- feature_2 >  5.35\n",
      "|   |   |   |--- class: Iris-virginica\n",
      "|   |--- feature_3 >  1.75\n",
      "|   |   |--- feature_2 <= 4.85\n",
      "|   |   |   |--- feature_1 <= 3.10\n",
      "|   |   |   |   |--- class: Iris-virginica\n",
      "|   |   |   |--- feature_1 >  3.10\n",
      "|   |   |   |   |--- class: Iris-versicolor\n",
      "|   |   |--- feature_2 >  4.85\n",
      "|   |   |   |--- class: Iris-virginica\n",
      "\n"
     ]
    }
   ],
   "source": [
    "# Print Decision Tree Representation\n",
    "text_representation = tree.export_text(clf)\n",
    "print(text_representation)"
   ]
  },
  {
   "cell_type": "code",
   "execution_count": 103,
   "id": "ff4e5439",
   "metadata": {},
   "outputs": [],
   "source": [
    "# Save the text_presentation to a file\n",
    "with open(\"decistion_tree.log\", \"w\") as fout:\n",
    "    fout.write(text_representation)"
   ]
  },
  {
   "cell_type": "markdown",
   "id": "840922fc",
   "metadata": {},
   "source": [
    "### 5. Classify new unknown data (iris_unknown.csv)"
   ]
  },
  {
   "cell_type": "code",
   "execution_count": 108,
   "id": "bfc38cf1",
   "metadata": {},
   "outputs": [],
   "source": [
    "# Q5.1: Load Iris unknown data\n",
    "f_unknown = 'Lab02_unknown_Cook.csv'\n",
    "names = ['sepal-length', 'sepal-width', 'petal-length', 'petal-width', 'class']\n",
    "df_unknown = pd.read_csv(f_unknown)\n"
   ]
  },
  {
   "cell_type": "code",
   "execution_count": 109,
   "id": "fe3ecfd1",
   "metadata": {
    "scrolled": true
   },
   "outputs": [
    {
     "name": "stdout",
     "output_type": "stream",
     "text": [
      "   sepallength  sepalwidth  petallength  petalwidth\n",
      "0          5.0         3.1          1.4         0.3\n",
      "1          6.7         3.4          5.3         1.3\n",
      "2          6.0         4.4          2.4         1.5\n"
     ]
    }
   ],
   "source": [
    "# print unknown data file\n",
    "print(df_unknown)"
   ]
  },
  {
   "cell_type": "code",
   "execution_count": 110,
   "id": "e0f48ad4",
   "metadata": {},
   "outputs": [],
   "source": [
    "# Q5.2: Predict the class values for the three unknown iris flowers\n",
    "unknown_pred = classifier.predict(df_unknown)"
   ]
  },
  {
   "cell_type": "code",
   "execution_count": 112,
   "id": "bea37a50",
   "metadata": {},
   "outputs": [
    {
     "name": "stdout",
     "output_type": "stream",
     "text": [
      "['Iris-setosa' 'Iris-versicolor' 'Iris-versicolor']\n"
     ]
    }
   ],
   "source": [
    "# Q5.3: Print the predicted class values\n",
    "print(unknown_pred )"
   ]
  }
 ],
 "metadata": {
  "kernelspec": {
   "display_name": "Python 3",
   "language": "python",
   "name": "python3"
  },
  "language_info": {
   "codemirror_mode": {
    "name": "ipython",
    "version": 3
   },
   "file_extension": ".py",
   "mimetype": "text/x-python",
   "name": "python",
   "nbconvert_exporter": "python",
   "pygments_lexer": "ipython3",
   "version": "3.9.4"
  }
 },
 "nbformat": 4,
 "nbformat_minor": 5
}